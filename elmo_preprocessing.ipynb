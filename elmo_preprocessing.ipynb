{
 "cells": [
  {
   "cell_type": "code",
   "execution_count": 1,
   "metadata": {},
   "outputs": [
    {
     "name": "stdout",
     "output_type": "stream",
     "text": [
      "INFO:tensorflow:Using /tmp/tfhub_modules to cache modules.\n"
     ]
    }
   ],
   "source": [
    "import numpy as np\n",
    "import tensorflow as tf\n",
    "import tensorflow_hub as hub\n",
    "from sklearn.metrics.pairwise import cosine_similarity\n",
    "\n",
    "from utility.progress_bar import update_progress_bar\n",
    "\n",
    "elmo = hub.Module(\"https://tfhub.dev/google/elmo/2\", trainable=True)"
   ]
  },
  {
   "cell_type": "code",
   "execution_count": 2,
   "metadata": {},
   "outputs": [
    {
     "data": {
      "text/html": [
       "<div>\n",
       "<style scoped>\n",
       "    .dataframe tbody tr th:only-of-type {\n",
       "        vertical-align: middle;\n",
       "    }\n",
       "\n",
       "    .dataframe tbody tr th {\n",
       "        vertical-align: top;\n",
       "    }\n",
       "\n",
       "    .dataframe thead th {\n",
       "        text-align: right;\n",
       "    }\n",
       "</style>\n",
       "<table border=\"1\" class=\"dataframe\">\n",
       "  <thead>\n",
       "    <tr style=\"text-align: right;\">\n",
       "      <th></th>\n",
       "      <th>idx</th>\n",
       "      <th>sent_1</th>\n",
       "      <th>sent_2</th>\n",
       "      <th>sim</th>\n",
       "      <th>label</th>\n",
       "    </tr>\n",
       "  </thead>\n",
       "  <tbody>\n",
       "    <tr>\n",
       "      <th>0</th>\n",
       "      <td>1</td>\n",
       "      <td>A group of kids is playing in a yard and an ol...</td>\n",
       "      <td>A group of boys in a yard is playing and a man...</td>\n",
       "      <td>4.5</td>\n",
       "      <td>NEUTRAL</td>\n",
       "    </tr>\n",
       "    <tr>\n",
       "      <th>1</th>\n",
       "      <td>2</td>\n",
       "      <td>A group of children is playing in the house an...</td>\n",
       "      <td>A group of kids is playing in a yard and an ol...</td>\n",
       "      <td>3.2</td>\n",
       "      <td>NEUTRAL</td>\n",
       "    </tr>\n",
       "    <tr>\n",
       "      <th>2</th>\n",
       "      <td>3</td>\n",
       "      <td>The young boys are playing outdoors and the ma...</td>\n",
       "      <td>The kids are playing outdoors near a man with ...</td>\n",
       "      <td>4.7</td>\n",
       "      <td>ENTAILMENT</td>\n",
       "    </tr>\n",
       "    <tr>\n",
       "      <th>3</th>\n",
       "      <td>5</td>\n",
       "      <td>The kids are playing outdoors near a man with ...</td>\n",
       "      <td>A group of kids is playing in a yard and an ol...</td>\n",
       "      <td>3.4</td>\n",
       "      <td>NEUTRAL</td>\n",
       "    </tr>\n",
       "    <tr>\n",
       "      <th>4</th>\n",
       "      <td>9</td>\n",
       "      <td>The young boys are playing outdoors and the ma...</td>\n",
       "      <td>A group of kids is playing in a yard and an ol...</td>\n",
       "      <td>3.7</td>\n",
       "      <td>NEUTRAL</td>\n",
       "    </tr>\n",
       "    <tr>\n",
       "      <th>5</th>\n",
       "      <td>12</td>\n",
       "      <td>Two dogs are fighting</td>\n",
       "      <td>Two dogs are wrestling and hugging</td>\n",
       "      <td>4.0</td>\n",
       "      <td>NEUTRAL</td>\n",
       "    </tr>\n",
       "    <tr>\n",
       "      <th>6</th>\n",
       "      <td>14</td>\n",
       "      <td>A brown dog is attacking another animal in fro...</td>\n",
       "      <td>Two dogs are fighting</td>\n",
       "      <td>3.5</td>\n",
       "      <td>NEUTRAL</td>\n",
       "    </tr>\n",
       "    <tr>\n",
       "      <th>7</th>\n",
       "      <td>18</td>\n",
       "      <td>A brown dog is attacking another animal in fro...</td>\n",
       "      <td>Two dogs are wrestling and hugging</td>\n",
       "      <td>3.2</td>\n",
       "      <td>NEUTRAL</td>\n",
       "    </tr>\n",
       "    <tr>\n",
       "      <th>8</th>\n",
       "      <td>25</td>\n",
       "      <td>Nobody is riding the bicycle on one wheel</td>\n",
       "      <td>A person in a black jacket is doing tricks on ...</td>\n",
       "      <td>2.8</td>\n",
       "      <td>NEUTRAL</td>\n",
       "    </tr>\n",
       "    <tr>\n",
       "      <th>9</th>\n",
       "      <td>26</td>\n",
       "      <td>A person is riding the bicycle on one wheel</td>\n",
       "      <td>A man in a black jacket is doing tricks on a m...</td>\n",
       "      <td>3.7</td>\n",
       "      <td>NEUTRAL</td>\n",
       "    </tr>\n",
       "  </tbody>\n",
       "</table>\n",
       "</div>"
      ],
      "text/plain": [
       "  idx                                             sent_1  \\\n",
       "0   1  A group of kids is playing in a yard and an ol...   \n",
       "1   2  A group of children is playing in the house an...   \n",
       "2   3  The young boys are playing outdoors and the ma...   \n",
       "3   5  The kids are playing outdoors near a man with ...   \n",
       "4   9  The young boys are playing outdoors and the ma...   \n",
       "5  12                              Two dogs are fighting   \n",
       "6  14  A brown dog is attacking another animal in fro...   \n",
       "7  18  A brown dog is attacking another animal in fro...   \n",
       "8  25          Nobody is riding the bicycle on one wheel   \n",
       "9  26        A person is riding the bicycle on one wheel   \n",
       "\n",
       "                                              sent_2  sim       label  \n",
       "0  A group of boys in a yard is playing and a man...  4.5     NEUTRAL  \n",
       "1  A group of kids is playing in a yard and an ol...  3.2     NEUTRAL  \n",
       "2  The kids are playing outdoors near a man with ...  4.7  ENTAILMENT  \n",
       "3  A group of kids is playing in a yard and an ol...  3.4     NEUTRAL  \n",
       "4  A group of kids is playing in a yard and an ol...  3.7     NEUTRAL  \n",
       "5                 Two dogs are wrestling and hugging  4.0     NEUTRAL  \n",
       "6                              Two dogs are fighting  3.5     NEUTRAL  \n",
       "7                 Two dogs are wrestling and hugging  3.2     NEUTRAL  \n",
       "8  A person in a black jacket is doing tricks on ...  2.8     NEUTRAL  \n",
       "9  A man in a black jacket is doing tricks on a m...  3.7     NEUTRAL  "
      ]
     },
     "execution_count": 2,
     "metadata": {},
     "output_type": "execute_result"
    }
   ],
   "source": [
    "from preprocessing.load_data import download_and_load_sts_data, download_and_load_sick_dataset\n",
    "\n",
    "sick_all, sick_train, sick_test, sick_dev = download_and_load_sick_dataset()\n",
    "sick_all[:10]GULAST84"
   ]
  },
  {
   "cell_type": "code",
   "execution_count": 3,
   "metadata": {},
   "outputs": [
    {
     "name": "stdout",
     "output_type": "stream",
     "text": [
      "WARNING:tensorflow:From /home/tharindu/anaconda3/envs/sentence_similarity_3.6/lib/python3.6/site-packages/tensorflow/python/util/tf_should_use.py:189: initialize_all_variables (from tensorflow.python.ops.variables) is deprecated and will be removed after 2017-03-02.\n",
      "Instructions for updating:\n",
      "Use `tf.global_variables_initializer` instead.\n",
      "Progress: |███████████████████████████████████████████████████████████████████████████████████████████████████-| 99.0% Complete\r"
     ]
    }
   ],
   "source": [
    "from models.sentence import Sentence\n",
    "from embeddings.elmo.preprocessing import save_vectors\n",
    "\n",
    "sentences1 = [Sentence(s) for s in sick_train['sent_1']]\n",
    "sentences2 = [Sentence(s) for s in sick_train['sent_2']]\n",
    "\n",
    "#save_vectors(sentences1[4400:4500], 'ml_models/elmo/sick/1/', elmo)\n",
    "save_vectors(sentences2[4400:4500], 'ml_models/elmo/sick/2/', elmo)"
   ]
  },
  {
   "cell_type": "code",
   "execution_count": 33,
   "metadata": {},
   "outputs": [],
   "source": [
    "d1 = np.load(os.path.join('ml_models', 'elmo', '1','1.npy'))\n",
    "d2 = np.load(os.path.join('ml_models', 'elmo', '1','2.npy'))\n"
   ]
  },
  {
   "cell_type": "code",
   "execution_count": 34,
   "metadata": {},
   "outputs": [
    {
     "name": "stdout",
     "output_type": "stream",
     "text": [
      "0.7171137\n"
     ]
    }
   ],
   "source": [
    "sim = cosine_similarity(d1, d2)[0][0]\n",
    "print(sim)"
   ]
  },
  {
   "cell_type": "code",
   "execution_count": null,
   "metadata": {},
   "outputs": [],
   "source": [
    "from utility.hashing import convert_to_number, convert_from_number\n",
    "\n",
    "\n",
    "def get_similarity(sent1, sent2, doc_freqs=None, use_stoplist=False):\n",
    "\n",
    "    if doc_freqs is not None:\n",
    "        N = doc_freqs[\"NUM_DOCS\"]\n",
    "\n",
    "    tokens1 = sent1.tokens_without_stop if use_stoplist else sent1.tokens\n",
    "    tokens2 = sent2.tokens_without_stop if use_stoplist else sent2.tokens\n",
    "\n",
    "    tokfreqs1 = Counter(tokens1)\n",
    "    tokfreqs2 = Counter(tokens2)\n",
    "\n",
    "    weights1 = [tokfreqs1[token] * math.log(N / (doc_freqs.get(token, 0) + 1))\n",
    "                for token in tokens1] if doc_freqs else None\n",
    "\n",
    "    weights2 = [tokfreqs2[token] * math.log(N / (doc_freqs.get(token, 0) + 1))\n",
    "                for token in tokens2] if doc_freqs else None\n",
    "\n",
    "    number1 = convert_to_number(sent1)\n",
    "    number2 = convert_to_number(sent2)\n",
    "                                 \n",
    "    embeddings1 = \n",
    "\n",
    "    embeddings2 = \n",
    "    \n",
    "    embedding1 = np.average([embedding for embedding in sess.run(embeddings1[0])], axis=0,\n",
    "                            weights=weights1).reshape(1, -1)\n",
    "\n",
    "    embedding2 = np.average([embedding for embedding in sess.run(embeddings2[0])], axis=0,\n",
    "                            weights=weights2).reshape(1, -1)\n",
    "\n",
    "    sim = cosine_similarity(embedding1, embedding2)[0][0]\n",
    "\n",
    "    sess.close()\n",
    "\n",
    "    return sim"
   ]
  }
 ],
 "metadata": {
  "kernelspec": {
   "display_name": "Python [conda env:sentence_similarity_3.6]",
   "language": "python",
   "name": "conda-env-sentence_similarity_3.6-py"
  },
  "language_info": {
   "codemirror_mode": {
    "name": "ipython",
    "version": 3
   },
   "file_extension": ".py",
   "mimetype": "text/x-python",
   "name": "python",
   "nbconvert_exporter": "python",
   "pygments_lexer": "ipython3",
   "version": "3.6.6"
  }
 },
 "nbformat": 4,
 "nbformat_minor": 1
}

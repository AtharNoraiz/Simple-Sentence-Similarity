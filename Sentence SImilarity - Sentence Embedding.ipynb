{
 "cells": [
  {
   "cell_type": "markdown",
   "metadata": {},
   "source": [
    "## Sentence Similarity with Sentence Vectors\n",
    "\n",
    "Representing the sentences using word vectors has serious limitations. \n",
    "\n",
    "1. It ignores the order of words in the sentence.\n",
    "2. It ignores the sentence semantics completely.\n",
    "\n",
    "Other word vector based approaches are also similarly constrained. For instance, a weighted average technique again loses word order within the sentence. In this Notebook we are going to discuss several sentence embedding methods and evaluate them for sentence similarity using SICK and STS Datasets."
   ]
  },
  {
   "cell_type": "code",
   "execution_count": null,
   "metadata": {},
   "outputs": [],
   "source": []
  }
 ],
 "metadata": {
  "kernelspec": {
   "display_name": "Python [conda env:sentence_similarity_3.6]",
   "language": "python",
   "name": "conda-env-sentence_similarity_3.6-py"
  },
  "language_info": {
   "codemirror_mode": {
    "name": "ipython",
    "version": 3
   },
   "file_extension": ".py",
   "mimetype": "text/x-python",
   "name": "python",
   "nbconvert_exporter": "python",
   "pygments_lexer": "ipython3",
   "version": "3.6.6"
  }
 },
 "nbformat": 4,
 "nbformat_minor": 2
}
